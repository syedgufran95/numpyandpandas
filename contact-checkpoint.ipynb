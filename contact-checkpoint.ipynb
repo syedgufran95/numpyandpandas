{
 "cells": [
  {
   "cell_type": "code",
   "execution_count": 5,
   "metadata": {},
   "outputs": [],
   "source": [
    "import pandas as pd\n",
    "import numpy as np"
   ]
  },
  {
   "cell_type": "code",
   "execution_count": 16,
   "metadata": {},
   "outputs": [],
   "source": [
    "df=pd.read_csv(r\"C:\\Users\\MACHINE\\Documents\\5th sem\\internship\\contact\\Gowalla_totalCheckins.txt\" , names=['row','Date','Lat','long','loc id'],delimiter='\\t')"
   ]
  },
  {
   "cell_type": "code",
   "execution_count": null,
   "metadata": {},
   "outputs": [],
   "source": []
  },
  {
   "cell_type": "code",
   "execution_count": null,
   "metadata": {},
   "outputs": [],
   "source": []
  },
  {
   "cell_type": "code",
   "execution_count": null,
   "metadata": {},
   "outputs": [],
   "source": [
    "print(\"hello\")"
   ]
  },
  {
   "cell_type": "code",
   "execution_count": null,
   "metadata": {},
   "outputs": [],
   "source": []
  },
  {
   "cell_type": "code",
   "execution_count": 95,
   "metadata": {},
   "outputs": [
    {
     "name": "stdout",
     "output_type": "stream",
     "text": [
      "         row                  Date        Lat       long   loc id      Time  \\\n",
      "loc id                                                                        \n",
      "22847      0  2010-10-19T23:55:27Z  30.235909 -97.795140    22847  23:55:27   \n",
      "420315     0  2010-10-18T22:17:43Z  30.269103 -97.749395   420315  22:17:43   \n",
      "316637     0  2010-10-17T23:42:03Z  30.255731 -97.763386   316637  23:42:03   \n",
      "16516      0  2010-10-17T19:26:05Z  30.263418 -97.757597    16516  19:26:05   \n",
      "5535878    0  2010-10-16T18:50:42Z  30.274292 -97.740523  5535878  18:50:42   \n",
      "...      ...                   ...        ...        ...      ...       ...   \n",
      "9263       0  2010-08-25T02:03:08Z  30.263775 -97.770660     9263  02:03:08   \n",
      "9241       0  2010-08-24T17:33:20Z  30.270734 -97.753703     9241  17:33:20   \n",
      "420315     0  2010-08-24T16:26:53Z  30.269103 -97.749395   420315  16:26:53   \n",
      "21714      0  2010-08-23T14:45:49Z  30.267910 -97.749312    21714  14:45:49   \n",
      "18417      0  2010-08-21T18:10:00Z  30.244860 -97.757163    18417  18:10:00   \n",
      "\n",
      "              Dates  \n",
      "loc id               \n",
      "22847    2010-10-19  \n",
      "420315   2010-10-18  \n",
      "316637   2010-10-17  \n",
      "16516    2010-10-17  \n",
      "5535878  2010-10-16  \n",
      "...             ...  \n",
      "9263     2010-08-25  \n",
      "9241     2010-08-24  \n",
      "420315   2010-08-24  \n",
      "21714    2010-08-23  \n",
      "18417    2010-08-21  \n",
      "\n",
      "[100 rows x 7 columns]\n"
     ]
    }
   ],
   "source": [
    "df_100=df.head(100)\n",
    "print(screenshot)"
   ]
  },
  {
   "cell_type": "code",
   "execution_count": null,
   "metadata": {},
   "outputs": [],
   "source": []
  },
  {
   "cell_type": "code",
   "execution_count": null,
   "metadata": {},
   "outputs": [],
   "source": []
  },
  {
   "cell_type": "code",
   "execution_count": null,
   "metadata": {},
   "outputs": [],
   "source": []
  },
  {
   "cell_type": "code",
   "execution_count": 96,
   "metadata": {},
   "outputs": [
    {
     "name": "stderr",
     "output_type": "stream",
     "text": [
      "<ipython-input-96-fd4c06bfb49d>:2: SettingWithCopyWarning: \n",
      "A value is trying to be set on a copy of a slice from a DataFrame.\n",
      "Try using .loc[row_indexer,col_indexer] = value instead\n",
      "\n",
      "See the caveats in the documentation: https://pandas.pydata.org/pandas-docs/stable/user_guide/indexing.html#returning-a-view-versus-a-copy\n",
      "  df_100['Time']=pd.to_datetime(df['Date']).dt.time\n"
     ]
    },
    {
     "name": "stdout",
     "output_type": "stream",
     "text": [
      "    row                  Date        Lat       long   loc id      Time  \\\n",
      "0     0  2010-10-19T23:55:27Z  30.235909 -97.795140    22847  23:55:27   \n",
      "1     0  2010-10-18T22:17:43Z  30.269103 -97.749395   420315  22:17:43   \n",
      "2     0  2010-10-17T23:42:03Z  30.255731 -97.763386   316637  23:42:03   \n",
      "3     0  2010-10-17T19:26:05Z  30.263418 -97.757597    16516  19:26:05   \n",
      "4     0  2010-10-16T18:50:42Z  30.274292 -97.740523  5535878  18:50:42   \n",
      "..  ...                   ...        ...        ...      ...       ...   \n",
      "95    0  2010-08-25T02:03:08Z  30.263775 -97.770660     9263  02:03:08   \n",
      "96    0  2010-08-24T17:33:20Z  30.270734 -97.753703     9241  17:33:20   \n",
      "97    0  2010-08-24T16:26:53Z  30.269103 -97.749395   420315  16:26:53   \n",
      "98    0  2010-08-23T14:45:49Z  30.267910 -97.749312    21714  14:45:49   \n",
      "99    0  2010-08-21T18:10:00Z  30.244860 -97.757163    18417  18:10:00   \n",
      "\n",
      "         Dates  \n",
      "0   2010-10-19  \n",
      "1   2010-10-18  \n",
      "2   2010-10-17  \n",
      "3   2010-10-17  \n",
      "4   2010-10-16  \n",
      "..         ...  \n",
      "95  2010-08-25  \n",
      "96  2010-08-24  \n",
      "97  2010-08-24  \n",
      "98  2010-08-23  \n",
      "99  2010-08-21  \n",
      "\n",
      "[100 rows x 7 columns]\n"
     ]
    },
    {
     "name": "stderr",
     "output_type": "stream",
     "text": [
      "<ipython-input-96-fd4c06bfb49d>:3: SettingWithCopyWarning: \n",
      "A value is trying to be set on a copy of a slice from a DataFrame.\n",
      "Try using .loc[row_indexer,col_indexer] = value instead\n",
      "\n",
      "See the caveats in the documentation: https://pandas.pydata.org/pandas-docs/stable/user_guide/indexing.html#returning-a-view-versus-a-copy\n",
      "  df_100['Dates'] = pd.to_datetime(df['Date']).dt.date\n"
     ]
    }
   ],
   "source": [
    "def conv(df_100):\n",
    "    df_100['Time']=pd.to_datetime(df['Date']).dt.time\n",
    "    df_100['Dates'] = pd.to_datetime(df['Date']).dt.date\n",
    "    print(df_100)\n",
    "conv(df_100)"
   ]
  },
  {
   "cell_type": "code",
   "execution_count": 97,
   "metadata": {},
   "outputs": [],
   "source": [
    "df_100=df_100.set_index(df_100['loc id'])"
   ]
  },
  {
   "cell_type": "code",
   "execution_count": 101,
   "metadata": {},
   "outputs": [
    {
     "name": "stdout",
     "output_type": "stream",
     "text": [
      "Empty DataFrame\n",
      "Columns: [row, Date, Lat, long, loc id, Time, Dates]\n",
      "Index: []\n"
     ]
    }
   ],
   "source": [
    "for x in df_100:\n",
    "    print(df_100.loc[df_100[\"loc id\"]==420315])"
   ]
  },
  {
   "cell_type": "code",
   "execution_count": null,
   "metadata": {},
   "outputs": [],
   "source": []
  },
  {
   "cell_type": "code",
   "execution_count": null,
   "metadata": {},
   "outputs": [],
   "source": []
  },
  {
   "cell_type": "code",
   "execution_count": null,
   "metadata": {},
   "outputs": [],
   "source": []
  },
  {
   "cell_type": "code",
   "execution_count": null,
   "metadata": {},
   "outputs": [],
   "source": []
  },
  {
   "cell_type": "code",
   "execution_count": null,
   "metadata": {},
   "outputs": [],
   "source": []
  },
  {
   "cell_type": "code",
   "execution_count": null,
   "metadata": {},
   "outputs": [],
   "source": []
  },
  {
   "cell_type": "code",
   "execution_count": 81,
   "metadata": {
    "scrolled": true
   },
   "outputs": [
    {
     "name": "stderr",
     "output_type": "stream",
     "text": [
      "<ipython-input-81-d364514d9bda>:1: SettingWithCopyWarning: \n",
      "A value is trying to be set on a copy of a slice from a DataFrame.\n",
      "Try using .loc[row_indexer,col_indexer] = value instead\n",
      "\n",
      "See the caveats in the documentation: https://pandas.pydata.org/pandas-docs/stable/user_guide/indexing.html#returning-a-view-versus-a-copy\n",
      "  screenshot['Time']=pd.to_datetime(df['Date']).dt.time\n"
     ]
    }
   ],
   "source": []
  },
  {
   "cell_type": "code",
   "execution_count": null,
   "metadata": {},
   "outputs": [],
   "source": []
  },
  {
   "cell_type": "code",
   "execution_count": null,
   "metadata": {},
   "outputs": [],
   "source": []
  },
  {
   "cell_type": "code",
   "execution_count": 82,
   "metadata": {},
   "outputs": [
    {
     "name": "stdout",
     "output_type": "stream",
     "text": [
      "0     23:55:27\n",
      "1     22:17:43\n",
      "2     23:42:03\n",
      "3     19:26:05\n",
      "4     18:50:42\n",
      "        ...   \n",
      "95    02:03:08\n",
      "96    17:33:20\n",
      "97    16:26:53\n",
      "98    14:45:49\n",
      "99    18:10:00\n",
      "Name: Time, Length: 100, dtype: object\n"
     ]
    }
   ],
   "source": [
    "print(screenshot['Time'])"
   ]
  },
  {
   "cell_type": "code",
   "execution_count": null,
   "metadata": {},
   "outputs": [],
   "source": []
  },
  {
   "cell_type": "code",
   "execution_count": null,
   "metadata": {},
   "outputs": [],
   "source": []
  },
  {
   "cell_type": "code",
   "execution_count": null,
   "metadata": {},
   "outputs": [],
   "source": []
  },
  {
   "cell_type": "code",
   "execution_count": 83,
   "metadata": {},
   "outputs": [
    {
     "name": "stderr",
     "output_type": "stream",
     "text": [
      "<ipython-input-83-b78579cacb73>:1: SettingWithCopyWarning: \n",
      "A value is trying to be set on a copy of a slice from a DataFrame.\n",
      "Try using .loc[row_indexer,col_indexer] = value instead\n",
      "\n",
      "See the caveats in the documentation: https://pandas.pydata.org/pandas-docs/stable/user_guide/indexing.html#returning-a-view-versus-a-copy\n",
      "  screenshot['Dates'] = pd.to_datetime(df['Date']).dt.date\n"
     ]
    }
   ],
   "source": []
  },
  {
   "cell_type": "code",
   "execution_count": null,
   "metadata": {},
   "outputs": [],
   "source": []
  },
  {
   "cell_type": "code",
   "execution_count": null,
   "metadata": {},
   "outputs": [],
   "source": []
  },
  {
   "cell_type": "code",
   "execution_count": 84,
   "metadata": {},
   "outputs": [
    {
     "name": "stdout",
     "output_type": "stream",
     "text": [
      "0     2010-10-19\n",
      "1     2010-10-18\n",
      "2     2010-10-17\n",
      "3     2010-10-17\n",
      "4     2010-10-16\n",
      "         ...    \n",
      "95    2010-08-25\n",
      "96    2010-08-24\n",
      "97    2010-08-24\n",
      "98    2010-08-23\n",
      "99    2010-08-21\n",
      "Name: Dates, Length: 100, dtype: object\n"
     ]
    }
   ],
   "source": [
    "print(screenshot['Dates'])"
   ]
  },
  {
   "cell_type": "code",
   "execution_count": null,
   "metadata": {},
   "outputs": [],
   "source": []
  },
  {
   "cell_type": "code",
   "execution_count": null,
   "metadata": {},
   "outputs": [],
   "source": []
  },
  {
   "cell_type": "code",
   "execution_count": 85,
   "metadata": {},
   "outputs": [
    {
     "name": "stdout",
     "output_type": "stream",
     "text": [
      "[  22847  420315  316637   16516 5535878   15372   21714  153505   23261\n",
      "   16907   12973  341255  260957 1933724  105068   34817   27836   15079\n",
      "   22806 1365909   11844   11742   19822   15169   11794 1567837   35513\n",
      "   87914   16397   17710   60450   12313   34484   49215   16431   18417\n",
      " 1151119 4256132  211286  539065   15590  121955   25151 1145567   46946\n",
      "   24276 3842712   17602   17236    8964    8938   19224  157923   18329\n",
      "   17526  232292   64830    9263 1576090    9223    9313 1067829  480992\n",
      "    9508 2587606 2587024   11934    9225    9241]\n"
     ]
    }
   ],
   "source": [
    "\n",
    "\n",
    "z=screenshot.groupby(['loc id', 'Dates']).count()\n",
    "f=screenshot['loc id'].unique()\n",
    "print(f)\n",
    "\n",
    "\n"
   ]
  },
  {
   "cell_type": "code",
   "execution_count": 89,
   "metadata": {},
   "outputs": [],
   "source": [
    "screenshot=screenshot.set_index(screenshot['loc id'])"
   ]
  },
  {
   "cell_type": "code",
   "execution_count": null,
   "metadata": {},
   "outputs": [],
   "source": []
  },
  {
   "cell_type": "code",
   "execution_count": 73,
   "metadata": {},
   "outputs": [
    {
     "data": {
      "text/plain": [
       "{'row': {(8938, datetime.date(2010, 9, 12)): 1,\n",
       "  (8964, datetime.date(2010, 9, 13)): 1,\n",
       "  (9223, datetime.date(2010, 9, 4)): 1,\n",
       "  (9225, datetime.date(2010, 8, 26)): 1,\n",
       "  (9241, datetime.date(2010, 8, 24)): 1,\n",
       "  (9263, datetime.date(2010, 8, 25)): 1,\n",
       "  (9263, datetime.date(2010, 8, 28)): 1,\n",
       "  (9263, datetime.date(2010, 9, 6)): 1,\n",
       "  (9313, datetime.date(2010, 9, 3)): 1,\n",
       "  (9508, datetime.date(2010, 8, 30)): 1,\n",
       "  (11742, datetime.date(2010, 10, 8)): 1,\n",
       "  (11794, datetime.date(2010, 10, 8)): 1,\n",
       "  (11844, datetime.date(2010, 10, 9)): 1,\n",
       "  (11934, datetime.date(2010, 8, 28)): 1,\n",
       "  (12313, datetime.date(2010, 10, 7)): 1,\n",
       "  (12973, datetime.date(2010, 10, 11)): 1,\n",
       "  (15079, datetime.date(2010, 10, 9)): 2,\n",
       "  (15169, datetime.date(2010, 10, 8)): 1,\n",
       "  (15372, datetime.date(2010, 10, 12)): 1,\n",
       "  (15590, datetime.date(2010, 9, 28)): 1,\n",
       "  (16397, datetime.date(2010, 10, 7)): 1,\n",
       "  (16431, datetime.date(2010, 10, 5)): 1,\n",
       "  (16516, datetime.date(2010, 10, 17)): 1,\n",
       "  (16907, datetime.date(2010, 10, 11)): 1,\n",
       "  (17236, datetime.date(2010, 9, 13)): 1,\n",
       "  (17526, datetime.date(2010, 9, 11)): 1,\n",
       "  (17602, datetime.date(2010, 9, 13)): 1,\n",
       "  (17710, datetime.date(2010, 10, 7)): 1,\n",
       "  (18329, datetime.date(2010, 9, 11)): 1,\n",
       "  (18417, datetime.date(2010, 8, 21)): 1,\n",
       "  (18417, datetime.date(2010, 8, 28)): 1,\n",
       "  (18417, datetime.date(2010, 9, 1)): 1,\n",
       "  (18417, datetime.date(2010, 9, 4)): 1,\n",
       "  (18417, datetime.date(2010, 10, 3)): 1,\n",
       "  (19224, datetime.date(2010, 9, 11)): 1,\n",
       "  (19822, datetime.date(2010, 10, 8)): 1,\n",
       "  (21714, datetime.date(2010, 8, 23)): 1,\n",
       "  (21714, datetime.date(2010, 8, 30)): 1,\n",
       "  (21714, datetime.date(2010, 9, 21)): 1,\n",
       "  (21714, datetime.date(2010, 9, 22)): 1,\n",
       "  (21714, datetime.date(2010, 9, 24)): 1,\n",
       "  (21714, datetime.date(2010, 10, 1)): 1,\n",
       "  (21714, datetime.date(2010, 10, 4)): 1,\n",
       "  (21714, datetime.date(2010, 10, 12)): 1,\n",
       "  (22806, datetime.date(2010, 10, 9)): 1,\n",
       "  (22847, datetime.date(2010, 10, 19)): 1,\n",
       "  (23261, datetime.date(2010, 10, 7)): 1,\n",
       "  (23261, datetime.date(2010, 10, 12)): 1,\n",
       "  (24276, datetime.date(2010, 8, 26)): 1,\n",
       "  (24276, datetime.date(2010, 9, 21)): 1,\n",
       "  (25151, datetime.date(2010, 8, 28)): 1,\n",
       "  (25151, datetime.date(2010, 9, 25)): 1,\n",
       "  (27836, datetime.date(2010, 10, 9)): 1,\n",
       "  (34484, datetime.date(2010, 10, 7)): 1,\n",
       "  (34817, datetime.date(2010, 10, 9)): 1,\n",
       "  (35513, datetime.date(2010, 10, 8)): 1,\n",
       "  (46946, datetime.date(2010, 9, 22)): 1,\n",
       "  (49215, datetime.date(2010, 10, 5)): 1,\n",
       "  (60450, datetime.date(2010, 10, 7)): 1,\n",
       "  (64830, datetime.date(2010, 9, 9)): 1,\n",
       "  (87914, datetime.date(2010, 10, 8)): 1,\n",
       "  (105068, datetime.date(2010, 10, 10)): 1,\n",
       "  (121955, datetime.date(2010, 9, 26)): 1,\n",
       "  (153505, datetime.date(2010, 10, 12)): 1,\n",
       "  (157923, datetime.date(2010, 9, 11)): 1,\n",
       "  (211286, datetime.date(2010, 9, 30)): 1,\n",
       "  (232292, datetime.date(2010, 9, 9)): 1,\n",
       "  (260957, datetime.date(2010, 10, 10)): 1,\n",
       "  (316637, datetime.date(2010, 10, 17)): 1,\n",
       "  (341255, datetime.date(2010, 10, 11)): 1,\n",
       "  (420315, datetime.date(2010, 8, 24)): 1,\n",
       "  (420315, datetime.date(2010, 8, 25)): 1,\n",
       "  (420315, datetime.date(2010, 8, 31)): 1,\n",
       "  (420315, datetime.date(2010, 9, 7)): 2,\n",
       "  (420315, datetime.date(2010, 9, 8)): 1,\n",
       "  (420315, datetime.date(2010, 9, 15)): 1,\n",
       "  (420315, datetime.date(2010, 9, 24)): 1,\n",
       "  (420315, datetime.date(2010, 9, 27)): 1,\n",
       "  (420315, datetime.date(2010, 10, 5)): 1,\n",
       "  (420315, datetime.date(2010, 10, 6)): 1,\n",
       "  (420315, datetime.date(2010, 10, 12)): 2,\n",
       "  (420315, datetime.date(2010, 10, 18)): 1,\n",
       "  (480992, datetime.date(2010, 8, 26)): 1,\n",
       "  (480992, datetime.date(2010, 8, 30)): 1,\n",
       "  (539065, datetime.date(2010, 9, 29)): 1,\n",
       "  (1067829, datetime.date(2010, 9, 1)): 1,\n",
       "  (1145567, datetime.date(2010, 9, 25)): 1,\n",
       "  (1151119, datetime.date(2010, 10, 2)): 1,\n",
       "  (1365909, datetime.date(2010, 10, 9)): 1,\n",
       "  (1567837, datetime.date(2010, 10, 8)): 1,\n",
       "  (1576090, datetime.date(2010, 9, 5)): 1,\n",
       "  (1933724, datetime.date(2010, 10, 10)): 1,\n",
       "  (2587024, datetime.date(2010, 8, 28)): 1,\n",
       "  (2587606, datetime.date(2010, 8, 28)): 1,\n",
       "  (3842712, datetime.date(2010, 9, 17)): 1,\n",
       "  (4256132, datetime.date(2010, 10, 2)): 1,\n",
       "  (5535878, datetime.date(2010, 10, 16)): 1},\n",
       " 'Date': {(8938, datetime.date(2010, 9, 12)): 1,\n",
       "  (8964, datetime.date(2010, 9, 13)): 1,\n",
       "  (9223, datetime.date(2010, 9, 4)): 1,\n",
       "  (9225, datetime.date(2010, 8, 26)): 1,\n",
       "  (9241, datetime.date(2010, 8, 24)): 1,\n",
       "  (9263, datetime.date(2010, 8, 25)): 1,\n",
       "  (9263, datetime.date(2010, 8, 28)): 1,\n",
       "  (9263, datetime.date(2010, 9, 6)): 1,\n",
       "  (9313, datetime.date(2010, 9, 3)): 1,\n",
       "  (9508, datetime.date(2010, 8, 30)): 1,\n",
       "  (11742, datetime.date(2010, 10, 8)): 1,\n",
       "  (11794, datetime.date(2010, 10, 8)): 1,\n",
       "  (11844, datetime.date(2010, 10, 9)): 1,\n",
       "  (11934, datetime.date(2010, 8, 28)): 1,\n",
       "  (12313, datetime.date(2010, 10, 7)): 1,\n",
       "  (12973, datetime.date(2010, 10, 11)): 1,\n",
       "  (15079, datetime.date(2010, 10, 9)): 2,\n",
       "  (15169, datetime.date(2010, 10, 8)): 1,\n",
       "  (15372, datetime.date(2010, 10, 12)): 1,\n",
       "  (15590, datetime.date(2010, 9, 28)): 1,\n",
       "  (16397, datetime.date(2010, 10, 7)): 1,\n",
       "  (16431, datetime.date(2010, 10, 5)): 1,\n",
       "  (16516, datetime.date(2010, 10, 17)): 1,\n",
       "  (16907, datetime.date(2010, 10, 11)): 1,\n",
       "  (17236, datetime.date(2010, 9, 13)): 1,\n",
       "  (17526, datetime.date(2010, 9, 11)): 1,\n",
       "  (17602, datetime.date(2010, 9, 13)): 1,\n",
       "  (17710, datetime.date(2010, 10, 7)): 1,\n",
       "  (18329, datetime.date(2010, 9, 11)): 1,\n",
       "  (18417, datetime.date(2010, 8, 21)): 1,\n",
       "  (18417, datetime.date(2010, 8, 28)): 1,\n",
       "  (18417, datetime.date(2010, 9, 1)): 1,\n",
       "  (18417, datetime.date(2010, 9, 4)): 1,\n",
       "  (18417, datetime.date(2010, 10, 3)): 1,\n",
       "  (19224, datetime.date(2010, 9, 11)): 1,\n",
       "  (19822, datetime.date(2010, 10, 8)): 1,\n",
       "  (21714, datetime.date(2010, 8, 23)): 1,\n",
       "  (21714, datetime.date(2010, 8, 30)): 1,\n",
       "  (21714, datetime.date(2010, 9, 21)): 1,\n",
       "  (21714, datetime.date(2010, 9, 22)): 1,\n",
       "  (21714, datetime.date(2010, 9, 24)): 1,\n",
       "  (21714, datetime.date(2010, 10, 1)): 1,\n",
       "  (21714, datetime.date(2010, 10, 4)): 1,\n",
       "  (21714, datetime.date(2010, 10, 12)): 1,\n",
       "  (22806, datetime.date(2010, 10, 9)): 1,\n",
       "  (22847, datetime.date(2010, 10, 19)): 1,\n",
       "  (23261, datetime.date(2010, 10, 7)): 1,\n",
       "  (23261, datetime.date(2010, 10, 12)): 1,\n",
       "  (24276, datetime.date(2010, 8, 26)): 1,\n",
       "  (24276, datetime.date(2010, 9, 21)): 1,\n",
       "  (25151, datetime.date(2010, 8, 28)): 1,\n",
       "  (25151, datetime.date(2010, 9, 25)): 1,\n",
       "  (27836, datetime.date(2010, 10, 9)): 1,\n",
       "  (34484, datetime.date(2010, 10, 7)): 1,\n",
       "  (34817, datetime.date(2010, 10, 9)): 1,\n",
       "  (35513, datetime.date(2010, 10, 8)): 1,\n",
       "  (46946, datetime.date(2010, 9, 22)): 1,\n",
       "  (49215, datetime.date(2010, 10, 5)): 1,\n",
       "  (60450, datetime.date(2010, 10, 7)): 1,\n",
       "  (64830, datetime.date(2010, 9, 9)): 1,\n",
       "  (87914, datetime.date(2010, 10, 8)): 1,\n",
       "  (105068, datetime.date(2010, 10, 10)): 1,\n",
       "  (121955, datetime.date(2010, 9, 26)): 1,\n",
       "  (153505, datetime.date(2010, 10, 12)): 1,\n",
       "  (157923, datetime.date(2010, 9, 11)): 1,\n",
       "  (211286, datetime.date(2010, 9, 30)): 1,\n",
       "  (232292, datetime.date(2010, 9, 9)): 1,\n",
       "  (260957, datetime.date(2010, 10, 10)): 1,\n",
       "  (316637, datetime.date(2010, 10, 17)): 1,\n",
       "  (341255, datetime.date(2010, 10, 11)): 1,\n",
       "  (420315, datetime.date(2010, 8, 24)): 1,\n",
       "  (420315, datetime.date(2010, 8, 25)): 1,\n",
       "  (420315, datetime.date(2010, 8, 31)): 1,\n",
       "  (420315, datetime.date(2010, 9, 7)): 2,\n",
       "  (420315, datetime.date(2010, 9, 8)): 1,\n",
       "  (420315, datetime.date(2010, 9, 15)): 1,\n",
       "  (420315, datetime.date(2010, 9, 24)): 1,\n",
       "  (420315, datetime.date(2010, 9, 27)): 1,\n",
       "  (420315, datetime.date(2010, 10, 5)): 1,\n",
       "  (420315, datetime.date(2010, 10, 6)): 1,\n",
       "  (420315, datetime.date(2010, 10, 12)): 2,\n",
       "  (420315, datetime.date(2010, 10, 18)): 1,\n",
       "  (480992, datetime.date(2010, 8, 26)): 1,\n",
       "  (480992, datetime.date(2010, 8, 30)): 1,\n",
       "  (539065, datetime.date(2010, 9, 29)): 1,\n",
       "  (1067829, datetime.date(2010, 9, 1)): 1,\n",
       "  (1145567, datetime.date(2010, 9, 25)): 1,\n",
       "  (1151119, datetime.date(2010, 10, 2)): 1,\n",
       "  (1365909, datetime.date(2010, 10, 9)): 1,\n",
       "  (1567837, datetime.date(2010, 10, 8)): 1,\n",
       "  (1576090, datetime.date(2010, 9, 5)): 1,\n",
       "  (1933724, datetime.date(2010, 10, 10)): 1,\n",
       "  (2587024, datetime.date(2010, 8, 28)): 1,\n",
       "  (2587606, datetime.date(2010, 8, 28)): 1,\n",
       "  (3842712, datetime.date(2010, 9, 17)): 1,\n",
       "  (4256132, datetime.date(2010, 10, 2)): 1,\n",
       "  (5535878, datetime.date(2010, 10, 16)): 1},\n",
       " 'Lat': {(8938, datetime.date(2010, 9, 12)): 1,\n",
       "  (8964, datetime.date(2010, 9, 13)): 1,\n",
       "  (9223, datetime.date(2010, 9, 4)): 1,\n",
       "  (9225, datetime.date(2010, 8, 26)): 1,\n",
       "  (9241, datetime.date(2010, 8, 24)): 1,\n",
       "  (9263, datetime.date(2010, 8, 25)): 1,\n",
       "  (9263, datetime.date(2010, 8, 28)): 1,\n",
       "  (9263, datetime.date(2010, 9, 6)): 1,\n",
       "  (9313, datetime.date(2010, 9, 3)): 1,\n",
       "  (9508, datetime.date(2010, 8, 30)): 1,\n",
       "  (11742, datetime.date(2010, 10, 8)): 1,\n",
       "  (11794, datetime.date(2010, 10, 8)): 1,\n",
       "  (11844, datetime.date(2010, 10, 9)): 1,\n",
       "  (11934, datetime.date(2010, 8, 28)): 1,\n",
       "  (12313, datetime.date(2010, 10, 7)): 1,\n",
       "  (12973, datetime.date(2010, 10, 11)): 1,\n",
       "  (15079, datetime.date(2010, 10, 9)): 2,\n",
       "  (15169, datetime.date(2010, 10, 8)): 1,\n",
       "  (15372, datetime.date(2010, 10, 12)): 1,\n",
       "  (15590, datetime.date(2010, 9, 28)): 1,\n",
       "  (16397, datetime.date(2010, 10, 7)): 1,\n",
       "  (16431, datetime.date(2010, 10, 5)): 1,\n",
       "  (16516, datetime.date(2010, 10, 17)): 1,\n",
       "  (16907, datetime.date(2010, 10, 11)): 1,\n",
       "  (17236, datetime.date(2010, 9, 13)): 1,\n",
       "  (17526, datetime.date(2010, 9, 11)): 1,\n",
       "  (17602, datetime.date(2010, 9, 13)): 1,\n",
       "  (17710, datetime.date(2010, 10, 7)): 1,\n",
       "  (18329, datetime.date(2010, 9, 11)): 1,\n",
       "  (18417, datetime.date(2010, 8, 21)): 1,\n",
       "  (18417, datetime.date(2010, 8, 28)): 1,\n",
       "  (18417, datetime.date(2010, 9, 1)): 1,\n",
       "  (18417, datetime.date(2010, 9, 4)): 1,\n",
       "  (18417, datetime.date(2010, 10, 3)): 1,\n",
       "  (19224, datetime.date(2010, 9, 11)): 1,\n",
       "  (19822, datetime.date(2010, 10, 8)): 1,\n",
       "  (21714, datetime.date(2010, 8, 23)): 1,\n",
       "  (21714, datetime.date(2010, 8, 30)): 1,\n",
       "  (21714, datetime.date(2010, 9, 21)): 1,\n",
       "  (21714, datetime.date(2010, 9, 22)): 1,\n",
       "  (21714, datetime.date(2010, 9, 24)): 1,\n",
       "  (21714, datetime.date(2010, 10, 1)): 1,\n",
       "  (21714, datetime.date(2010, 10, 4)): 1,\n",
       "  (21714, datetime.date(2010, 10, 12)): 1,\n",
       "  (22806, datetime.date(2010, 10, 9)): 1,\n",
       "  (22847, datetime.date(2010, 10, 19)): 1,\n",
       "  (23261, datetime.date(2010, 10, 7)): 1,\n",
       "  (23261, datetime.date(2010, 10, 12)): 1,\n",
       "  (24276, datetime.date(2010, 8, 26)): 1,\n",
       "  (24276, datetime.date(2010, 9, 21)): 1,\n",
       "  (25151, datetime.date(2010, 8, 28)): 1,\n",
       "  (25151, datetime.date(2010, 9, 25)): 1,\n",
       "  (27836, datetime.date(2010, 10, 9)): 1,\n",
       "  (34484, datetime.date(2010, 10, 7)): 1,\n",
       "  (34817, datetime.date(2010, 10, 9)): 1,\n",
       "  (35513, datetime.date(2010, 10, 8)): 1,\n",
       "  (46946, datetime.date(2010, 9, 22)): 1,\n",
       "  (49215, datetime.date(2010, 10, 5)): 1,\n",
       "  (60450, datetime.date(2010, 10, 7)): 1,\n",
       "  (64830, datetime.date(2010, 9, 9)): 1,\n",
       "  (87914, datetime.date(2010, 10, 8)): 1,\n",
       "  (105068, datetime.date(2010, 10, 10)): 1,\n",
       "  (121955, datetime.date(2010, 9, 26)): 1,\n",
       "  (153505, datetime.date(2010, 10, 12)): 1,\n",
       "  (157923, datetime.date(2010, 9, 11)): 1,\n",
       "  (211286, datetime.date(2010, 9, 30)): 1,\n",
       "  (232292, datetime.date(2010, 9, 9)): 1,\n",
       "  (260957, datetime.date(2010, 10, 10)): 1,\n",
       "  (316637, datetime.date(2010, 10, 17)): 1,\n",
       "  (341255, datetime.date(2010, 10, 11)): 1,\n",
       "  (420315, datetime.date(2010, 8, 24)): 1,\n",
       "  (420315, datetime.date(2010, 8, 25)): 1,\n",
       "  (420315, datetime.date(2010, 8, 31)): 1,\n",
       "  (420315, datetime.date(2010, 9, 7)): 2,\n",
       "  (420315, datetime.date(2010, 9, 8)): 1,\n",
       "  (420315, datetime.date(2010, 9, 15)): 1,\n",
       "  (420315, datetime.date(2010, 9, 24)): 1,\n",
       "  (420315, datetime.date(2010, 9, 27)): 1,\n",
       "  (420315, datetime.date(2010, 10, 5)): 1,\n",
       "  (420315, datetime.date(2010, 10, 6)): 1,\n",
       "  (420315, datetime.date(2010, 10, 12)): 2,\n",
       "  (420315, datetime.date(2010, 10, 18)): 1,\n",
       "  (480992, datetime.date(2010, 8, 26)): 1,\n",
       "  (480992, datetime.date(2010, 8, 30)): 1,\n",
       "  (539065, datetime.date(2010, 9, 29)): 1,\n",
       "  (1067829, datetime.date(2010, 9, 1)): 1,\n",
       "  (1145567, datetime.date(2010, 9, 25)): 1,\n",
       "  (1151119, datetime.date(2010, 10, 2)): 1,\n",
       "  (1365909, datetime.date(2010, 10, 9)): 1,\n",
       "  (1567837, datetime.date(2010, 10, 8)): 1,\n",
       "  (1576090, datetime.date(2010, 9, 5)): 1,\n",
       "  (1933724, datetime.date(2010, 10, 10)): 1,\n",
       "  (2587024, datetime.date(2010, 8, 28)): 1,\n",
       "  (2587606, datetime.date(2010, 8, 28)): 1,\n",
       "  (3842712, datetime.date(2010, 9, 17)): 1,\n",
       "  (4256132, datetime.date(2010, 10, 2)): 1,\n",
       "  (5535878, datetime.date(2010, 10, 16)): 1},\n",
       " 'long': {(8938, datetime.date(2010, 9, 12)): 1,\n",
       "  (8964, datetime.date(2010, 9, 13)): 1,\n",
       "  (9223, datetime.date(2010, 9, 4)): 1,\n",
       "  (9225, datetime.date(2010, 8, 26)): 1,\n",
       "  (9241, datetime.date(2010, 8, 24)): 1,\n",
       "  (9263, datetime.date(2010, 8, 25)): 1,\n",
       "  (9263, datetime.date(2010, 8, 28)): 1,\n",
       "  (9263, datetime.date(2010, 9, 6)): 1,\n",
       "  (9313, datetime.date(2010, 9, 3)): 1,\n",
       "  (9508, datetime.date(2010, 8, 30)): 1,\n",
       "  (11742, datetime.date(2010, 10, 8)): 1,\n",
       "  (11794, datetime.date(2010, 10, 8)): 1,\n",
       "  (11844, datetime.date(2010, 10, 9)): 1,\n",
       "  (11934, datetime.date(2010, 8, 28)): 1,\n",
       "  (12313, datetime.date(2010, 10, 7)): 1,\n",
       "  (12973, datetime.date(2010, 10, 11)): 1,\n",
       "  (15079, datetime.date(2010, 10, 9)): 2,\n",
       "  (15169, datetime.date(2010, 10, 8)): 1,\n",
       "  (15372, datetime.date(2010, 10, 12)): 1,\n",
       "  (15590, datetime.date(2010, 9, 28)): 1,\n",
       "  (16397, datetime.date(2010, 10, 7)): 1,\n",
       "  (16431, datetime.date(2010, 10, 5)): 1,\n",
       "  (16516, datetime.date(2010, 10, 17)): 1,\n",
       "  (16907, datetime.date(2010, 10, 11)): 1,\n",
       "  (17236, datetime.date(2010, 9, 13)): 1,\n",
       "  (17526, datetime.date(2010, 9, 11)): 1,\n",
       "  (17602, datetime.date(2010, 9, 13)): 1,\n",
       "  (17710, datetime.date(2010, 10, 7)): 1,\n",
       "  (18329, datetime.date(2010, 9, 11)): 1,\n",
       "  (18417, datetime.date(2010, 8, 21)): 1,\n",
       "  (18417, datetime.date(2010, 8, 28)): 1,\n",
       "  (18417, datetime.date(2010, 9, 1)): 1,\n",
       "  (18417, datetime.date(2010, 9, 4)): 1,\n",
       "  (18417, datetime.date(2010, 10, 3)): 1,\n",
       "  (19224, datetime.date(2010, 9, 11)): 1,\n",
       "  (19822, datetime.date(2010, 10, 8)): 1,\n",
       "  (21714, datetime.date(2010, 8, 23)): 1,\n",
       "  (21714, datetime.date(2010, 8, 30)): 1,\n",
       "  (21714, datetime.date(2010, 9, 21)): 1,\n",
       "  (21714, datetime.date(2010, 9, 22)): 1,\n",
       "  (21714, datetime.date(2010, 9, 24)): 1,\n",
       "  (21714, datetime.date(2010, 10, 1)): 1,\n",
       "  (21714, datetime.date(2010, 10, 4)): 1,\n",
       "  (21714, datetime.date(2010, 10, 12)): 1,\n",
       "  (22806, datetime.date(2010, 10, 9)): 1,\n",
       "  (22847, datetime.date(2010, 10, 19)): 1,\n",
       "  (23261, datetime.date(2010, 10, 7)): 1,\n",
       "  (23261, datetime.date(2010, 10, 12)): 1,\n",
       "  (24276, datetime.date(2010, 8, 26)): 1,\n",
       "  (24276, datetime.date(2010, 9, 21)): 1,\n",
       "  (25151, datetime.date(2010, 8, 28)): 1,\n",
       "  (25151, datetime.date(2010, 9, 25)): 1,\n",
       "  (27836, datetime.date(2010, 10, 9)): 1,\n",
       "  (34484, datetime.date(2010, 10, 7)): 1,\n",
       "  (34817, datetime.date(2010, 10, 9)): 1,\n",
       "  (35513, datetime.date(2010, 10, 8)): 1,\n",
       "  (46946, datetime.date(2010, 9, 22)): 1,\n",
       "  (49215, datetime.date(2010, 10, 5)): 1,\n",
       "  (60450, datetime.date(2010, 10, 7)): 1,\n",
       "  (64830, datetime.date(2010, 9, 9)): 1,\n",
       "  (87914, datetime.date(2010, 10, 8)): 1,\n",
       "  (105068, datetime.date(2010, 10, 10)): 1,\n",
       "  (121955, datetime.date(2010, 9, 26)): 1,\n",
       "  (153505, datetime.date(2010, 10, 12)): 1,\n",
       "  (157923, datetime.date(2010, 9, 11)): 1,\n",
       "  (211286, datetime.date(2010, 9, 30)): 1,\n",
       "  (232292, datetime.date(2010, 9, 9)): 1,\n",
       "  (260957, datetime.date(2010, 10, 10)): 1,\n",
       "  (316637, datetime.date(2010, 10, 17)): 1,\n",
       "  (341255, datetime.date(2010, 10, 11)): 1,\n",
       "  (420315, datetime.date(2010, 8, 24)): 1,\n",
       "  (420315, datetime.date(2010, 8, 25)): 1,\n",
       "  (420315, datetime.date(2010, 8, 31)): 1,\n",
       "  (420315, datetime.date(2010, 9, 7)): 2,\n",
       "  (420315, datetime.date(2010, 9, 8)): 1,\n",
       "  (420315, datetime.date(2010, 9, 15)): 1,\n",
       "  (420315, datetime.date(2010, 9, 24)): 1,\n",
       "  (420315, datetime.date(2010, 9, 27)): 1,\n",
       "  (420315, datetime.date(2010, 10, 5)): 1,\n",
       "  (420315, datetime.date(2010, 10, 6)): 1,\n",
       "  (420315, datetime.date(2010, 10, 12)): 2,\n",
       "  (420315, datetime.date(2010, 10, 18)): 1,\n",
       "  (480992, datetime.date(2010, 8, 26)): 1,\n",
       "  (480992, datetime.date(2010, 8, 30)): 1,\n",
       "  (539065, datetime.date(2010, 9, 29)): 1,\n",
       "  (1067829, datetime.date(2010, 9, 1)): 1,\n",
       "  (1145567, datetime.date(2010, 9, 25)): 1,\n",
       "  (1151119, datetime.date(2010, 10, 2)): 1,\n",
       "  (1365909, datetime.date(2010, 10, 9)): 1,\n",
       "  (1567837, datetime.date(2010, 10, 8)): 1,\n",
       "  (1576090, datetime.date(2010, 9, 5)): 1,\n",
       "  (1933724, datetime.date(2010, 10, 10)): 1,\n",
       "  (2587024, datetime.date(2010, 8, 28)): 1,\n",
       "  (2587606, datetime.date(2010, 8, 28)): 1,\n",
       "  (3842712, datetime.date(2010, 9, 17)): 1,\n",
       "  (4256132, datetime.date(2010, 10, 2)): 1,\n",
       "  (5535878, datetime.date(2010, 10, 16)): 1},\n",
       " 'Time': {(8938, datetime.date(2010, 9, 12)): 1,\n",
       "  (8964, datetime.date(2010, 9, 13)): 1,\n",
       "  (9223, datetime.date(2010, 9, 4)): 1,\n",
       "  (9225, datetime.date(2010, 8, 26)): 1,\n",
       "  (9241, datetime.date(2010, 8, 24)): 1,\n",
       "  (9263, datetime.date(2010, 8, 25)): 1,\n",
       "  (9263, datetime.date(2010, 8, 28)): 1,\n",
       "  (9263, datetime.date(2010, 9, 6)): 1,\n",
       "  (9313, datetime.date(2010, 9, 3)): 1,\n",
       "  (9508, datetime.date(2010, 8, 30)): 1,\n",
       "  (11742, datetime.date(2010, 10, 8)): 1,\n",
       "  (11794, datetime.date(2010, 10, 8)): 1,\n",
       "  (11844, datetime.date(2010, 10, 9)): 1,\n",
       "  (11934, datetime.date(2010, 8, 28)): 1,\n",
       "  (12313, datetime.date(2010, 10, 7)): 1,\n",
       "  (12973, datetime.date(2010, 10, 11)): 1,\n",
       "  (15079, datetime.date(2010, 10, 9)): 2,\n",
       "  (15169, datetime.date(2010, 10, 8)): 1,\n",
       "  (15372, datetime.date(2010, 10, 12)): 1,\n",
       "  (15590, datetime.date(2010, 9, 28)): 1,\n",
       "  (16397, datetime.date(2010, 10, 7)): 1,\n",
       "  (16431, datetime.date(2010, 10, 5)): 1,\n",
       "  (16516, datetime.date(2010, 10, 17)): 1,\n",
       "  (16907, datetime.date(2010, 10, 11)): 1,\n",
       "  (17236, datetime.date(2010, 9, 13)): 1,\n",
       "  (17526, datetime.date(2010, 9, 11)): 1,\n",
       "  (17602, datetime.date(2010, 9, 13)): 1,\n",
       "  (17710, datetime.date(2010, 10, 7)): 1,\n",
       "  (18329, datetime.date(2010, 9, 11)): 1,\n",
       "  (18417, datetime.date(2010, 8, 21)): 1,\n",
       "  (18417, datetime.date(2010, 8, 28)): 1,\n",
       "  (18417, datetime.date(2010, 9, 1)): 1,\n",
       "  (18417, datetime.date(2010, 9, 4)): 1,\n",
       "  (18417, datetime.date(2010, 10, 3)): 1,\n",
       "  (19224, datetime.date(2010, 9, 11)): 1,\n",
       "  (19822, datetime.date(2010, 10, 8)): 1,\n",
       "  (21714, datetime.date(2010, 8, 23)): 1,\n",
       "  (21714, datetime.date(2010, 8, 30)): 1,\n",
       "  (21714, datetime.date(2010, 9, 21)): 1,\n",
       "  (21714, datetime.date(2010, 9, 22)): 1,\n",
       "  (21714, datetime.date(2010, 9, 24)): 1,\n",
       "  (21714, datetime.date(2010, 10, 1)): 1,\n",
       "  (21714, datetime.date(2010, 10, 4)): 1,\n",
       "  (21714, datetime.date(2010, 10, 12)): 1,\n",
       "  (22806, datetime.date(2010, 10, 9)): 1,\n",
       "  (22847, datetime.date(2010, 10, 19)): 1,\n",
       "  (23261, datetime.date(2010, 10, 7)): 1,\n",
       "  (23261, datetime.date(2010, 10, 12)): 1,\n",
       "  (24276, datetime.date(2010, 8, 26)): 1,\n",
       "  (24276, datetime.date(2010, 9, 21)): 1,\n",
       "  (25151, datetime.date(2010, 8, 28)): 1,\n",
       "  (25151, datetime.date(2010, 9, 25)): 1,\n",
       "  (27836, datetime.date(2010, 10, 9)): 1,\n",
       "  (34484, datetime.date(2010, 10, 7)): 1,\n",
       "  (34817, datetime.date(2010, 10, 9)): 1,\n",
       "  (35513, datetime.date(2010, 10, 8)): 1,\n",
       "  (46946, datetime.date(2010, 9, 22)): 1,\n",
       "  (49215, datetime.date(2010, 10, 5)): 1,\n",
       "  (60450, datetime.date(2010, 10, 7)): 1,\n",
       "  (64830, datetime.date(2010, 9, 9)): 1,\n",
       "  (87914, datetime.date(2010, 10, 8)): 1,\n",
       "  (105068, datetime.date(2010, 10, 10)): 1,\n",
       "  (121955, datetime.date(2010, 9, 26)): 1,\n",
       "  (153505, datetime.date(2010, 10, 12)): 1,\n",
       "  (157923, datetime.date(2010, 9, 11)): 1,\n",
       "  (211286, datetime.date(2010, 9, 30)): 1,\n",
       "  (232292, datetime.date(2010, 9, 9)): 1,\n",
       "  (260957, datetime.date(2010, 10, 10)): 1,\n",
       "  (316637, datetime.date(2010, 10, 17)): 1,\n",
       "  (341255, datetime.date(2010, 10, 11)): 1,\n",
       "  (420315, datetime.date(2010, 8, 24)): 1,\n",
       "  (420315, datetime.date(2010, 8, 25)): 1,\n",
       "  (420315, datetime.date(2010, 8, 31)): 1,\n",
       "  (420315, datetime.date(2010, 9, 7)): 2,\n",
       "  (420315, datetime.date(2010, 9, 8)): 1,\n",
       "  (420315, datetime.date(2010, 9, 15)): 1,\n",
       "  (420315, datetime.date(2010, 9, 24)): 1,\n",
       "  (420315, datetime.date(2010, 9, 27)): 1,\n",
       "  (420315, datetime.date(2010, 10, 5)): 1,\n",
       "  (420315, datetime.date(2010, 10, 6)): 1,\n",
       "  (420315, datetime.date(2010, 10, 12)): 2,\n",
       "  (420315, datetime.date(2010, 10, 18)): 1,\n",
       "  (480992, datetime.date(2010, 8, 26)): 1,\n",
       "  (480992, datetime.date(2010, 8, 30)): 1,\n",
       "  (539065, datetime.date(2010, 9, 29)): 1,\n",
       "  (1067829, datetime.date(2010, 9, 1)): 1,\n",
       "  (1145567, datetime.date(2010, 9, 25)): 1,\n",
       "  (1151119, datetime.date(2010, 10, 2)): 1,\n",
       "  (1365909, datetime.date(2010, 10, 9)): 1,\n",
       "  (1567837, datetime.date(2010, 10, 8)): 1,\n",
       "  (1576090, datetime.date(2010, 9, 5)): 1,\n",
       "  (1933724, datetime.date(2010, 10, 10)): 1,\n",
       "  (2587024, datetime.date(2010, 8, 28)): 1,\n",
       "  (2587606, datetime.date(2010, 8, 28)): 1,\n",
       "  (3842712, datetime.date(2010, 9, 17)): 1,\n",
       "  (4256132, datetime.date(2010, 10, 2)): 1,\n",
       "  (5535878, datetime.date(2010, 10, 16)): 1}}"
      ]
     },
     "execution_count": 73,
     "metadata": {},
     "output_type": "execute_result"
    }
   ],
   "source": [
    "#z.to_dict()"
   ]
  },
  {
   "cell_type": "code",
   "execution_count": 93,
   "metadata": {},
   "outputs": [
    {
     "name": "stdout",
     "output_type": "stream",
     "text": [
      "        row                  Date        Lat       long  loc id      Time  \\\n",
      "loc id                                                                      \n",
      "15079     0  2010-10-09T21:39:26Z  40.742396 -74.007543   15079  21:39:26   \n",
      "15079     0  2010-10-09T21:36:05Z  40.742396 -74.007543   15079  21:36:05   \n",
      "\n",
      "             Dates  \n",
      "loc id              \n",
      "15079   2010-10-09  \n",
      "15079   2010-10-09   \n",
      "\n",
      "        row                  Date        Lat       long  loc id      Time  \\\n",
      "loc id                                                                      \n",
      "15079     0  2010-10-09T21:39:26Z  40.742396 -74.007543   15079  21:39:26   \n",
      "15079     0  2010-10-09T21:36:05Z  40.742396 -74.007543   15079  21:36:05   \n",
      "\n",
      "             Dates  \n",
      "loc id              \n",
      "15079   2010-10-09  \n",
      "15079   2010-10-09   \n",
      "\n"
     ]
    }
   ],
   "source": [
    "for loc in screenshot:\n",
    "    if loc == 15079 and :\n",
    "        print(screenshot.loc[loc],\"\\n\")\n",
    "        \n",
    "        \n",
    "        \n",
    "        \n",
    "# df.loc[df['column name'] condition, 'new column name'] = 'value if condition is met'\n"
   ]
  },
  {
   "cell_type": "code",
   "execution_count": null,
   "metadata": {},
   "outputs": [],
   "source": []
  },
  {
   "cell_type": "code",
   "execution_count": null,
   "metadata": {},
   "outputs": [],
   "source": []
  },
  {
   "cell_type": "code",
   "execution_count": null,
   "metadata": {},
   "outputs": [],
   "source": []
  },
  {
   "cell_type": "code",
   "execution_count": null,
   "metadata": {},
   "outputs": [],
   "source": []
  },
  {
   "cell_type": "code",
   "execution_count": null,
   "metadata": {},
   "outputs": [],
   "source": []
  },
  {
   "cell_type": "code",
   "execution_count": null,
   "metadata": {},
   "outputs": [],
   "source": []
  },
  {
   "cell_type": "code",
   "execution_count": null,
   "metadata": {},
   "outputs": [],
   "source": []
  },
  {
   "cell_type": "code",
   "execution_count": 79,
   "metadata": {},
   "outputs": [
    {
     "name": "stdout",
     "output_type": "stream",
     "text": [
      "Dates\n",
      "2010-10-09    2\n",
      "Name: row, dtype: int64\n"
     ]
    }
   ],
   "source": [
    "for x in f:\n",
    "    if x==15079:\n",
    "        print(z[\"row\"][x])"
   ]
  },
  {
   "cell_type": "code",
   "execution_count": null,
   "metadata": {},
   "outputs": [],
   "source": []
  },
  {
   "cell_type": "code",
   "execution_count": null,
   "metadata": {},
   "outputs": [],
   "source": []
  },
  {
   "cell_type": "code",
   "execution_count": null,
   "metadata": {},
   "outputs": [],
   "source": []
  },
  {
   "cell_type": "code",
   "execution_count": null,
   "metadata": {},
   "outputs": [],
   "source": []
  },
  {
   "cell_type": "code",
   "execution_count": null,
   "metadata": {},
   "outputs": [],
   "source": []
  },
  {
   "cell_type": "code",
   "execution_count": null,
   "metadata": {},
   "outputs": [],
   "source": []
  },
  {
   "cell_type": "code",
   "execution_count": null,
   "metadata": {},
   "outputs": [],
   "source": []
  },
  {
   "cell_type": "code",
   "execution_count": null,
   "metadata": {},
   "outputs": [],
   "source": []
  },
  {
   "cell_type": "code",
   "execution_count": null,
   "metadata": {},
   "outputs": [],
   "source": []
  },
  {
   "cell_type": "code",
   "execution_count": null,
   "metadata": {},
   "outputs": [],
   "source": []
  },
  {
   "cell_type": "code",
   "execution_count": null,
   "metadata": {},
   "outputs": [],
   "source": []
  },
  {
   "cell_type": "code",
   "execution_count": null,
   "metadata": {},
   "outputs": [],
   "source": []
  },
  {
   "cell_type": "code",
   "execution_count": null,
   "metadata": {},
   "outputs": [],
   "source": []
  },
  {
   "cell_type": "code",
   "execution_count": 64,
   "metadata": {},
   "outputs": [
    {
     "name": "stderr",
     "output_type": "stream",
     "text": [
      "C:\\ProgramData\\Anaconda3\\lib\\site-packages\\pandas\\core\\ops\\array_ops.py:253: FutureWarning: elementwise comparison failed; returning scalar instead, but in the future will perform elementwise comparison\n",
      "  res_values = method(rvalues)\n"
     ]
    },
    {
     "ename": "ValueError",
     "evalue": "The truth value of a Series is ambiguous. Use a.empty, a.bool(), a.item(), a.any() or a.all().",
     "output_type": "error",
     "traceback": [
      "\u001b[1;31m---------------------------------------------------------------------------\u001b[0m",
      "\u001b[1;31mValueError\u001b[0m                                Traceback (most recent call last)",
      "\u001b[1;32m<ipython-input-64-7f6b77eb60d8>\u001b[0m in \u001b[0;36m<module>\u001b[1;34m\u001b[0m\n\u001b[0;32m      1\u001b[0m \u001b[1;32mfor\u001b[0m \u001b[0mx\u001b[0m \u001b[1;32min\u001b[0m \u001b[0mf\u001b[0m\u001b[1;33m:\u001b[0m\u001b[1;33m\u001b[0m\u001b[1;33m\u001b[0m\u001b[0m\n\u001b[1;32m----> 2\u001b[1;33m     \u001b[1;32mif\u001b[0m \u001b[0mf\u001b[0m\u001b[1;33m[\u001b[0m\u001b[1;34m\"loc id\"\u001b[0m\u001b[1;33m]\u001b[0m\u001b[1;33m==\u001b[0m\u001b[1;34m\"9223\"\u001b[0m\u001b[1;33m:\u001b[0m\u001b[1;33m\u001b[0m\u001b[1;33m\u001b[0m\u001b[0m\n\u001b[0m\u001b[0;32m      3\u001b[0m         \u001b[0mprint\u001b[0m\u001b[1;33m(\u001b[0m\u001b[0mf\u001b[0m\u001b[1;33m[\u001b[0m\u001b[1;34m\"Dates\"\u001b[0m\u001b[1;33m]\u001b[0m\u001b[1;33m)\u001b[0m\u001b[1;33m\u001b[0m\u001b[1;33m\u001b[0m\u001b[0m\n",
      "\u001b[1;32mC:\\ProgramData\\Anaconda3\\lib\\site-packages\\pandas\\core\\generic.py\u001b[0m in \u001b[0;36m__nonzero__\u001b[1;34m(self)\u001b[0m\n\u001b[0;32m   1476\u001b[0m \u001b[1;33m\u001b[0m\u001b[0m\n\u001b[0;32m   1477\u001b[0m     \u001b[1;32mdef\u001b[0m \u001b[0m__nonzero__\u001b[0m\u001b[1;33m(\u001b[0m\u001b[0mself\u001b[0m\u001b[1;33m)\u001b[0m\u001b[1;33m:\u001b[0m\u001b[1;33m\u001b[0m\u001b[1;33m\u001b[0m\u001b[0m\n\u001b[1;32m-> 1478\u001b[1;33m         raise ValueError(\n\u001b[0m\u001b[0;32m   1479\u001b[0m             \u001b[1;34mf\"The truth value of a {type(self).__name__} is ambiguous. \"\u001b[0m\u001b[1;33m\u001b[0m\u001b[1;33m\u001b[0m\u001b[0m\n\u001b[0;32m   1480\u001b[0m             \u001b[1;34m\"Use a.empty, a.bool(), a.item(), a.any() or a.all().\"\u001b[0m\u001b[1;33m\u001b[0m\u001b[1;33m\u001b[0m\u001b[0m\n",
      "\u001b[1;31mValueError\u001b[0m: The truth value of a Series is ambiguous. Use a.empty, a.bool(), a.item(), a.any() or a.all()."
     ]
    }
   ],
   "source": [
    "for x in f:\n",
    "    if f[\"loc id\"]==\"9223\":\n",
    "        print(f[\"Dates\"])"
   ]
  },
  {
   "cell_type": "code",
   "execution_count": null,
   "metadata": {},
   "outputs": [],
   "source": []
  },
  {
   "cell_type": "code",
   "execution_count": null,
   "metadata": {},
   "outputs": [],
   "source": []
  },
  {
   "cell_type": "code",
   "execution_count": null,
   "metadata": {},
   "outputs": [],
   "source": []
  },
  {
   "cell_type": "code",
   "execution_count": null,
   "metadata": {},
   "outputs": [],
   "source": []
  },
  {
   "cell_type": "code",
   "execution_count": null,
   "metadata": {},
   "outputs": [],
   "source": []
  },
  {
   "cell_type": "code",
   "execution_count": null,
   "metadata": {},
   "outputs": [],
   "source": []
  },
  {
   "cell_type": "code",
   "execution_count": null,
   "metadata": {},
   "outputs": [],
   "source": []
  },
  {
   "cell_type": "code",
   "execution_count": null,
   "metadata": {},
   "outputs": [],
   "source": []
  },
  {
   "cell_type": "code",
   "execution_count": null,
   "metadata": {},
   "outputs": [],
   "source": []
  },
  {
   "cell_type": "code",
   "execution_count": null,
   "metadata": {},
   "outputs": [],
   "source": []
  },
  {
   "cell_type": "code",
   "execution_count": null,
   "metadata": {},
   "outputs": [],
   "source": []
  },
  {
   "cell_type": "code",
   "execution_count": null,
   "metadata": {},
   "outputs": [],
   "source": []
  },
  {
   "cell_type": "code",
   "execution_count": null,
   "metadata": {},
   "outputs": [],
   "source": []
  },
  {
   "cell_type": "code",
   "execution_count": null,
   "metadata": {},
   "outputs": [],
   "source": []
  },
  {
   "cell_type": "code",
   "execution_count": 42,
   "metadata": {},
   "outputs": [
    {
     "ename": "AttributeError",
     "evalue": "'function' object has no attribute 'screenshot'",
     "output_type": "error",
     "traceback": [
      "\u001b[1;31m---------------------------------------------------------------------------\u001b[0m",
      "\u001b[1;31mAttributeError\u001b[0m                            Traceback (most recent call last)",
      "\u001b[1;32m<ipython-input-42-f0561b938901>\u001b[0m in \u001b[0;36m<module>\u001b[1;34m\u001b[0m\n\u001b[1;32m----> 1\u001b[1;33m \u001b[0mprint\u001b[0m\u001b[1;33m(\u001b[0m\u001b[0mscreenshot\u001b[0m\u001b[1;33m[\u001b[0m\u001b[1;34m\"loc id\"\u001b[0m\u001b[1;33m]\u001b[0m\u001b[1;33m.\u001b[0m\u001b[0munique\u001b[0m\u001b[1;33m.\u001b[0m\u001b[0mscreenshot\u001b[0m\u001b[1;33m.\u001b[0m\u001b[0mgroupby\u001b[0m\u001b[1;33m(\u001b[0m\u001b[1;33m[\u001b[0m\u001b[1;34m'loc id'\u001b[0m\u001b[1;33m,\u001b[0m \u001b[1;34m'Dates'\u001b[0m\u001b[1;33m,\u001b[0m\u001b[1;34m'Time'\u001b[0m\u001b[1;33m]\u001b[0m\u001b[1;33m)\u001b[0m\u001b[1;33m.\u001b[0m\u001b[0mcount\u001b[0m\u001b[1;33m(\u001b[0m\u001b[1;33m)\u001b[0m\u001b[1;33m)\u001b[0m\u001b[1;33m\u001b[0m\u001b[1;33m\u001b[0m\u001b[0m\n\u001b[0m",
      "\u001b[1;31mAttributeError\u001b[0m: 'function' object has no attribute 'screenshot'"
     ]
    }
   ],
   "source": []
  },
  {
   "cell_type": "code",
   "execution_count": null,
   "metadata": {},
   "outputs": [],
   "source": []
  },
  {
   "cell_type": "code",
   "execution_count": null,
   "metadata": {},
   "outputs": [],
   "source": []
  },
  {
   "cell_type": "code",
   "execution_count": null,
   "metadata": {},
   "outputs": [],
   "source": []
  },
  {
   "cell_type": "code",
   "execution_count": null,
   "metadata": {},
   "outputs": [],
   "source": []
  },
  {
   "cell_type": "code",
   "execution_count": null,
   "metadata": {},
   "outputs": [],
   "source": []
  },
  {
   "cell_type": "code",
   "execution_count": null,
   "metadata": {},
   "outputs": [],
   "source": []
  },
  {
   "cell_type": "code",
   "execution_count": 46,
   "metadata": {},
   "outputs": [
    {
     "name": "stdout",
     "output_type": "stream",
     "text": [
      "                    row  Date  Lat  long  Time\n",
      "loc id  Dates                                 \n",
      "15372   2010-10-12    1     1    1     1     1\n",
      "16516   2010-10-17    1     1    1     1     1\n",
      "21714   2010-10-12    1     1    1     1     1\n",
      "22847   2010-10-19    1     1    1     1     1\n",
      "153505  2010-10-12    1     1    1     1     1\n",
      "316637  2010-10-17    1     1    1     1     1\n",
      "420315  2010-10-12    2     2    2     2     2\n",
      "        2010-10-18    1     1    1     1     1\n",
      "5535878 2010-10-16    1     1    1     1     1\n"
     ]
    }
   ],
   "source": []
  },
  {
   "cell_type": "code",
   "execution_count": null,
   "metadata": {},
   "outputs": [],
   "source": []
  },
  {
   "cell_type": "code",
   "execution_count": null,
   "metadata": {},
   "outputs": [],
   "source": []
  },
  {
   "cell_type": "code",
   "execution_count": null,
   "metadata": {},
   "outputs": [],
   "source": []
  },
  {
   "cell_type": "code",
   "execution_count": null,
   "metadata": {},
   "outputs": [],
   "source": []
  },
  {
   "cell_type": "code",
   "execution_count": 32,
   "metadata": {},
   "outputs": [
    {
     "name": "stdout",
     "output_type": "stream",
     "text": [
      "                    row  Date  Lat  long  Time\n",
      "loc id  Dates                                 \n",
      "15372   2010-10-12    1     1    1     1     1\n",
      "16516   2010-10-17    1     1    1     1     1\n",
      "21714   2010-10-12    1     1    1     1     1\n",
      "22847   2010-10-19    1     1    1     1     1\n",
      "153505  2010-10-12    1     1    1     1     1\n",
      "316637  2010-10-17    1     1    1     1     1\n",
      "420315  2010-10-12    2     2    2     2     2\n",
      "        2010-10-18    1     1    1     1     1\n",
      "5535878 2010-10-16    1     1    1     1     1\n"
     ]
    }
   ],
   "source": [
    "print(z)"
   ]
  },
  {
   "cell_type": "code",
   "execution_count": null,
   "metadata": {},
   "outputs": [],
   "source": []
  },
  {
   "cell_type": "code",
   "execution_count": null,
   "metadata": {},
   "outputs": [],
   "source": []
  },
  {
   "cell_type": "code",
   "execution_count": null,
   "metadata": {},
   "outputs": [],
   "source": []
  },
  {
   "cell_type": "code",
   "execution_count": null,
   "metadata": {},
   "outputs": [],
   "source": []
  },
  {
   "cell_type": "code",
   "execution_count": null,
   "metadata": {},
   "outputs": [],
   "source": []
  },
  {
   "cell_type": "code",
   "execution_count": null,
   "metadata": {},
   "outputs": [],
   "source": []
  },
  {
   "cell_type": "code",
   "execution_count": null,
   "metadata": {},
   "outputs": [],
   "source": []
  },
  {
   "cell_type": "code",
   "execution_count": null,
   "metadata": {},
   "outputs": [],
   "source": []
  },
  {
   "cell_type": "code",
   "execution_count": null,
   "metadata": {},
   "outputs": [],
   "source": []
  },
  {
   "cell_type": "code",
   "execution_count": null,
   "metadata": {},
   "outputs": [],
   "source": []
  },
  {
   "cell_type": "code",
   "execution_count": 23,
   "metadata": {},
   "outputs": [
    {
     "ename": "TypeError",
     "evalue": "unhashable type: 'list'",
     "output_type": "error",
     "traceback": [
      "\u001b[1;31m---------------------------------------------------------------------------\u001b[0m",
      "\u001b[1;31mTypeError\u001b[0m                                 Traceback (most recent call last)",
      "\u001b[1;32m<ipython-input-23-d2821852ce2b>\u001b[0m in \u001b[0;36m<module>\u001b[1;34m\u001b[0m\n\u001b[1;32m----> 1\u001b[1;33m \u001b[0mscreenshot\u001b[0m\u001b[1;33m[\u001b[0m\u001b[1;33m[\u001b[0m\u001b[1;34m\"Date1\"\u001b[0m\u001b[1;33m]\u001b[0m\u001b[1;33m,\u001b[0m\u001b[1;33m[\u001b[0m\u001b[1;34m\"time\"\u001b[0m\u001b[1;33m]\u001b[0m\u001b[1;33m]\u001b[0m\u001b[1;33m=\u001b[0m\u001b[0mscreenshot\u001b[0m\u001b[1;33m.\u001b[0m\u001b[0mDate\u001b[0m\u001b[1;33m.\u001b[0m\u001b[0mapply\u001b[0m\u001b[1;33m(\u001b[0m\u001b[1;32mlambda\u001b[0m \u001b[0mx\u001b[0m\u001b[1;33m:\u001b[0m \u001b[0mpd\u001b[0m\u001b[1;33m.\u001b[0m\u001b[0mSeries\u001b[0m\u001b[1;33m(\u001b[0m\u001b[0mstr\u001b[0m\u001b[1;33m(\u001b[0m\u001b[0mx\u001b[0m\u001b[1;33m)\u001b[0m\u001b[1;33m.\u001b[0m\u001b[0msplit\u001b[0m\u001b[1;33m(\u001b[0m\u001b[1;34m\"T\"\u001b[0m\u001b[1;33m)\u001b[0m\u001b[1;33m)\u001b[0m\u001b[1;33m)\u001b[0m\u001b[1;33m\u001b[0m\u001b[1;33m\u001b[0m\u001b[0m\n\u001b[0m",
      "\u001b[1;32mC:\\ProgramData\\Anaconda3\\lib\\site-packages\\pandas\\core\\frame.py\u001b[0m in \u001b[0;36m__setitem__\u001b[1;34m(self, key, value)\u001b[0m\n\u001b[0;32m   2936\u001b[0m         \u001b[1;32melse\u001b[0m\u001b[1;33m:\u001b[0m\u001b[1;33m\u001b[0m\u001b[1;33m\u001b[0m\u001b[0m\n\u001b[0;32m   2937\u001b[0m             \u001b[1;31m# set column\u001b[0m\u001b[1;33m\u001b[0m\u001b[1;33m\u001b[0m\u001b[1;33m\u001b[0m\u001b[0m\n\u001b[1;32m-> 2938\u001b[1;33m             \u001b[0mself\u001b[0m\u001b[1;33m.\u001b[0m\u001b[0m_set_item\u001b[0m\u001b[1;33m(\u001b[0m\u001b[0mkey\u001b[0m\u001b[1;33m,\u001b[0m \u001b[0mvalue\u001b[0m\u001b[1;33m)\u001b[0m\u001b[1;33m\u001b[0m\u001b[1;33m\u001b[0m\u001b[0m\n\u001b[0m\u001b[0;32m   2939\u001b[0m \u001b[1;33m\u001b[0m\u001b[0m\n\u001b[0;32m   2940\u001b[0m     \u001b[1;32mdef\u001b[0m \u001b[0m_setitem_slice\u001b[0m\u001b[1;33m(\u001b[0m\u001b[0mself\u001b[0m\u001b[1;33m,\u001b[0m \u001b[0mkey\u001b[0m\u001b[1;33m,\u001b[0m \u001b[0mvalue\u001b[0m\u001b[1;33m)\u001b[0m\u001b[1;33m:\u001b[0m\u001b[1;33m\u001b[0m\u001b[1;33m\u001b[0m\u001b[0m\n",
      "\u001b[1;32mC:\\ProgramData\\Anaconda3\\lib\\site-packages\\pandas\\core\\frame.py\u001b[0m in \u001b[0;36m_set_item\u001b[1;34m(self, key, value)\u001b[0m\n\u001b[0;32m   2998\u001b[0m \u001b[1;33m\u001b[0m\u001b[0m\n\u001b[0;32m   2999\u001b[0m         \u001b[0mself\u001b[0m\u001b[1;33m.\u001b[0m\u001b[0m_ensure_valid_index\u001b[0m\u001b[1;33m(\u001b[0m\u001b[0mvalue\u001b[0m\u001b[1;33m)\u001b[0m\u001b[1;33m\u001b[0m\u001b[1;33m\u001b[0m\u001b[0m\n\u001b[1;32m-> 3000\u001b[1;33m         \u001b[0mvalue\u001b[0m \u001b[1;33m=\u001b[0m \u001b[0mself\u001b[0m\u001b[1;33m.\u001b[0m\u001b[0m_sanitize_column\u001b[0m\u001b[1;33m(\u001b[0m\u001b[0mkey\u001b[0m\u001b[1;33m,\u001b[0m \u001b[0mvalue\u001b[0m\u001b[1;33m)\u001b[0m\u001b[1;33m\u001b[0m\u001b[1;33m\u001b[0m\u001b[0m\n\u001b[0m\u001b[0;32m   3001\u001b[0m         \u001b[0mNDFrame\u001b[0m\u001b[1;33m.\u001b[0m\u001b[0m_set_item\u001b[0m\u001b[1;33m(\u001b[0m\u001b[0mself\u001b[0m\u001b[1;33m,\u001b[0m \u001b[0mkey\u001b[0m\u001b[1;33m,\u001b[0m \u001b[0mvalue\u001b[0m\u001b[1;33m)\u001b[0m\u001b[1;33m\u001b[0m\u001b[1;33m\u001b[0m\u001b[0m\n\u001b[0;32m   3002\u001b[0m \u001b[1;33m\u001b[0m\u001b[0m\n",
      "\u001b[1;32mC:\\ProgramData\\Anaconda3\\lib\\site-packages\\pandas\\core\\frame.py\u001b[0m in \u001b[0;36m_sanitize_column\u001b[1;34m(self, key, value, broadcast)\u001b[0m\n\u001b[0;32m   3664\u001b[0m \u001b[1;33m\u001b[0m\u001b[0m\n\u001b[0;32m   3665\u001b[0m         \u001b[1;31m# broadcast across multiple columns if necessary\u001b[0m\u001b[1;33m\u001b[0m\u001b[1;33m\u001b[0m\u001b[1;33m\u001b[0m\u001b[0m\n\u001b[1;32m-> 3666\u001b[1;33m         \u001b[1;32mif\u001b[0m \u001b[0mbroadcast\u001b[0m \u001b[1;32mand\u001b[0m \u001b[0mkey\u001b[0m \u001b[1;32min\u001b[0m \u001b[0mself\u001b[0m\u001b[1;33m.\u001b[0m\u001b[0mcolumns\u001b[0m \u001b[1;32mand\u001b[0m \u001b[0mvalue\u001b[0m\u001b[1;33m.\u001b[0m\u001b[0mndim\u001b[0m \u001b[1;33m==\u001b[0m \u001b[1;36m1\u001b[0m\u001b[1;33m:\u001b[0m\u001b[1;33m\u001b[0m\u001b[1;33m\u001b[0m\u001b[0m\n\u001b[0m\u001b[0;32m   3667\u001b[0m             \u001b[1;32mif\u001b[0m \u001b[1;32mnot\u001b[0m \u001b[0mself\u001b[0m\u001b[1;33m.\u001b[0m\u001b[0mcolumns\u001b[0m\u001b[1;33m.\u001b[0m\u001b[0mis_unique\u001b[0m \u001b[1;32mor\u001b[0m \u001b[0misinstance\u001b[0m\u001b[1;33m(\u001b[0m\u001b[0mself\u001b[0m\u001b[1;33m.\u001b[0m\u001b[0mcolumns\u001b[0m\u001b[1;33m,\u001b[0m \u001b[0mABCMultiIndex\u001b[0m\u001b[1;33m)\u001b[0m\u001b[1;33m:\u001b[0m\u001b[1;33m\u001b[0m\u001b[1;33m\u001b[0m\u001b[0m\n\u001b[0;32m   3668\u001b[0m                 \u001b[0mexisting_piece\u001b[0m \u001b[1;33m=\u001b[0m \u001b[0mself\u001b[0m\u001b[1;33m[\u001b[0m\u001b[0mkey\u001b[0m\u001b[1;33m]\u001b[0m\u001b[1;33m\u001b[0m\u001b[1;33m\u001b[0m\u001b[0m\n",
      "\u001b[1;32mC:\\ProgramData\\Anaconda3\\lib\\site-packages\\pandas\\core\\indexes\\base.py\u001b[0m in \u001b[0;36m__contains__\u001b[1;34m(self, key)\u001b[0m\n\u001b[0;32m   3898\u001b[0m     \u001b[1;33m@\u001b[0m\u001b[0mAppender\u001b[0m\u001b[1;33m(\u001b[0m\u001b[0m_index_shared_docs\u001b[0m\u001b[1;33m[\u001b[0m\u001b[1;34m\"contains\"\u001b[0m\u001b[1;33m]\u001b[0m \u001b[1;33m%\u001b[0m \u001b[0m_index_doc_kwargs\u001b[0m\u001b[1;33m)\u001b[0m\u001b[1;33m\u001b[0m\u001b[1;33m\u001b[0m\u001b[0m\n\u001b[0;32m   3899\u001b[0m     \u001b[1;32mdef\u001b[0m \u001b[0m__contains__\u001b[0m\u001b[1;33m(\u001b[0m\u001b[0mself\u001b[0m\u001b[1;33m,\u001b[0m \u001b[0mkey\u001b[0m\u001b[1;33m)\u001b[0m \u001b[1;33m->\u001b[0m \u001b[0mbool\u001b[0m\u001b[1;33m:\u001b[0m\u001b[1;33m\u001b[0m\u001b[1;33m\u001b[0m\u001b[0m\n\u001b[1;32m-> 3900\u001b[1;33m         \u001b[0mhash\u001b[0m\u001b[1;33m(\u001b[0m\u001b[0mkey\u001b[0m\u001b[1;33m)\u001b[0m\u001b[1;33m\u001b[0m\u001b[1;33m\u001b[0m\u001b[0m\n\u001b[0m\u001b[0;32m   3901\u001b[0m         \u001b[1;32mtry\u001b[0m\u001b[1;33m:\u001b[0m\u001b[1;33m\u001b[0m\u001b[1;33m\u001b[0m\u001b[0m\n\u001b[0;32m   3902\u001b[0m             \u001b[1;32mreturn\u001b[0m \u001b[0mkey\u001b[0m \u001b[1;32min\u001b[0m \u001b[0mself\u001b[0m\u001b[1;33m.\u001b[0m\u001b[0m_engine\u001b[0m\u001b[1;33m\u001b[0m\u001b[1;33m\u001b[0m\u001b[0m\n",
      "\u001b[1;31mTypeError\u001b[0m: unhashable type: 'list'"
     ]
    }
   ],
   "source": [
    "screenshot[[\"Date1\"],[\"time\"]]=screenshot.Date.apply(lambda x: pd.Series(str(x).split(\"T\")))"
   ]
  },
  {
   "cell_type": "code",
   "execution_count": null,
   "metadata": {},
   "outputs": [],
   "source": []
  },
  {
   "cell_type": "code",
   "execution_count": null,
   "metadata": {},
   "outputs": [],
   "source": []
  },
  {
   "cell_type": "code",
   "execution_count": null,
   "metadata": {},
   "outputs": [],
   "source": [
    "print(df)"
   ]
  },
  {
   "cell_type": "code",
   "execution_count": null,
   "metadata": {},
   "outputs": [],
   "source": [
    "y=df.head(10)"
   ]
  },
  {
   "cell_type": "code",
   "execution_count": null,
   "metadata": {},
   "outputs": [],
   "source": [
    "print(\"hello\")"
   ]
  },
  {
   "cell_type": "code",
   "execution_count": null,
   "metadata": {},
   "outputs": [],
   "source": []
  },
  {
   "cell_type": "code",
   "execution_count": null,
   "metadata": {},
   "outputs": [],
   "source": []
  },
  {
   "cell_type": "code",
   "execution_count": null,
   "metadata": {},
   "outputs": [],
   "source": []
  },
  {
   "cell_type": "code",
   "execution_count": null,
   "metadata": {},
   "outputs": [],
   "source": []
  },
  {
   "cell_type": "code",
   "execution_count": null,
   "metadata": {},
   "outputs": [],
   "source": []
  },
  {
   "cell_type": "code",
   "execution_count": 18,
   "metadata": {},
   "outputs": [
    {
     "data": {
      "text/html": [
       "<div>\n",
       "<style scoped>\n",
       "    .dataframe tbody tr th:only-of-type {\n",
       "        vertical-align: middle;\n",
       "    }\n",
       "\n",
       "    .dataframe tbody tr th {\n",
       "        vertical-align: top;\n",
       "    }\n",
       "\n",
       "    .dataframe thead th {\n",
       "        text-align: right;\n",
       "    }\n",
       "</style>\n",
       "<table border=\"1\" class=\"dataframe\">\n",
       "  <thead>\n",
       "    <tr style=\"text-align: right;\">\n",
       "      <th></th>\n",
       "      <th>row</th>\n",
       "      <th>Date</th>\n",
       "      <th>Lat</th>\n",
       "      <th>long</th>\n",
       "      <th>loc id</th>\n",
       "    </tr>\n",
       "  </thead>\n",
       "  <tbody>\n",
       "    <tr>\n",
       "      <th>0</th>\n",
       "      <td>0</td>\n",
       "      <td>2010-10-19T23:55:27Z</td>\n",
       "      <td>30.235909</td>\n",
       "      <td>-97.795140</td>\n",
       "      <td>22847</td>\n",
       "    </tr>\n",
       "    <tr>\n",
       "      <th>1</th>\n",
       "      <td>0</td>\n",
       "      <td>2010-10-18T22:17:43Z</td>\n",
       "      <td>30.269103</td>\n",
       "      <td>-97.749395</td>\n",
       "      <td>420315</td>\n",
       "    </tr>\n",
       "    <tr>\n",
       "      <th>2</th>\n",
       "      <td>0</td>\n",
       "      <td>2010-10-17T23:42:03Z</td>\n",
       "      <td>30.255731</td>\n",
       "      <td>-97.763386</td>\n",
       "      <td>316637</td>\n",
       "    </tr>\n",
       "    <tr>\n",
       "      <th>3</th>\n",
       "      <td>0</td>\n",
       "      <td>2010-10-17T19:26:05Z</td>\n",
       "      <td>30.263418</td>\n",
       "      <td>-97.757597</td>\n",
       "      <td>16516</td>\n",
       "    </tr>\n",
       "    <tr>\n",
       "      <th>4</th>\n",
       "      <td>0</td>\n",
       "      <td>2010-10-16T18:50:42Z</td>\n",
       "      <td>30.274292</td>\n",
       "      <td>-97.740523</td>\n",
       "      <td>5535878</td>\n",
       "    </tr>\n",
       "    <tr>\n",
       "      <th>...</th>\n",
       "      <td>...</td>\n",
       "      <td>...</td>\n",
       "      <td>...</td>\n",
       "      <td>...</td>\n",
       "      <td>...</td>\n",
       "    </tr>\n",
       "    <tr>\n",
       "      <th>6442887</th>\n",
       "      <td>196578</td>\n",
       "      <td>2010-06-11T13:32:26Z</td>\n",
       "      <td>51.742988</td>\n",
       "      <td>-0.488065</td>\n",
       "      <td>906885</td>\n",
       "    </tr>\n",
       "    <tr>\n",
       "      <th>6442888</th>\n",
       "      <td>196578</td>\n",
       "      <td>2010-06-11T13:26:45Z</td>\n",
       "      <td>51.746492</td>\n",
       "      <td>-0.490780</td>\n",
       "      <td>965121</td>\n",
       "    </tr>\n",
       "    <tr>\n",
       "      <th>6442889</th>\n",
       "      <td>196578</td>\n",
       "      <td>2010-06-11T13:26:34Z</td>\n",
       "      <td>51.741916</td>\n",
       "      <td>-0.496729</td>\n",
       "      <td>1174322</td>\n",
       "    </tr>\n",
       "    <tr>\n",
       "      <th>6442890</th>\n",
       "      <td>196585</td>\n",
       "      <td>2010-10-08T21:01:49Z</td>\n",
       "      <td>50.105516</td>\n",
       "      <td>8.571525</td>\n",
       "      <td>471724</td>\n",
       "    </tr>\n",
       "    <tr>\n",
       "      <th>6442891</th>\n",
       "      <td>196585</td>\n",
       "      <td>2010-10-07T17:39:18Z</td>\n",
       "      <td>50.027812</td>\n",
       "      <td>8.785098</td>\n",
       "      <td>4555073</td>\n",
       "    </tr>\n",
       "  </tbody>\n",
       "</table>\n",
       "<p>6442892 rows × 5 columns</p>\n",
       "</div>"
      ],
      "text/plain": [
       "            row                  Date        Lat       long   loc id\n",
       "0             0  2010-10-19T23:55:27Z  30.235909 -97.795140    22847\n",
       "1             0  2010-10-18T22:17:43Z  30.269103 -97.749395   420315\n",
       "2             0  2010-10-17T23:42:03Z  30.255731 -97.763386   316637\n",
       "3             0  2010-10-17T19:26:05Z  30.263418 -97.757597    16516\n",
       "4             0  2010-10-16T18:50:42Z  30.274292 -97.740523  5535878\n",
       "...         ...                   ...        ...        ...      ...\n",
       "6442887  196578  2010-06-11T13:32:26Z  51.742988  -0.488065   906885\n",
       "6442888  196578  2010-06-11T13:26:45Z  51.746492  -0.490780   965121\n",
       "6442889  196578  2010-06-11T13:26:34Z  51.741916  -0.496729  1174322\n",
       "6442890  196585  2010-10-08T21:01:49Z  50.105516   8.571525   471724\n",
       "6442891  196585  2010-10-07T17:39:18Z  50.027812   8.785098  4555073\n",
       "\n",
       "[6442892 rows x 5 columns]"
      ]
     },
     "execution_count": 18,
     "metadata": {},
     "output_type": "execute_result"
    }
   ],
   "source": [
    "df"
   ]
  },
  {
   "cell_type": "code",
   "execution_count": null,
   "metadata": {},
   "outputs": [],
   "source": []
  },
  {
   "cell_type": "code",
   "execution_count": null,
   "metadata": {},
   "outputs": [],
   "source": []
  },
  {
   "cell_type": "code",
   "execution_count": null,
   "metadata": {},
   "outputs": [],
   "source": []
  },
  {
   "cell_type": "code",
   "execution_count": null,
   "metadata": {},
   "outputs": [],
   "source": []
  },
  {
   "cell_type": "code",
   "execution_count": null,
   "metadata": {},
   "outputs": [],
   "source": []
  },
  {
   "cell_type": "code",
   "execution_count": null,
   "metadata": {},
   "outputs": [],
   "source": []
  },
  {
   "cell_type": "code",
   "execution_count": null,
   "metadata": {},
   "outputs": [],
   "source": []
  }
 ],
 "metadata": {
  "kernelspec": {
   "display_name": "Python 3",
   "language": "python",
   "name": "python3"
  },
  "language_info": {
   "codemirror_mode": {
    "name": "ipython",
    "version": 3
   },
   "file_extension": ".py",
   "mimetype": "text/x-python",
   "name": "python",
   "nbconvert_exporter": "python",
   "pygments_lexer": "ipython3",
   "version": "3.8.3"
  }
 },
 "nbformat": 4,
 "nbformat_minor": 4
}
